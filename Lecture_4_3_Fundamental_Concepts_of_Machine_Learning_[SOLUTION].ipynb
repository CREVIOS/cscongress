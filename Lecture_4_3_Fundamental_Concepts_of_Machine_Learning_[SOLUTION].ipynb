{
  "nbformat": 4,
  "nbformat_minor": 0,
  "metadata": {
    "colab": {
      "name": "Lecture 4.3: Fundamental Concepts of Machine Learning [SOLUTION]",
      "provenance": [],
      "collapsed_sections": [],
      "include_colab_link": true
    },
    "kernelspec": {
      "name": "python3",
      "display_name": "Python 3"
    }
  },
  "cells": [
    {
      "cell_type": "markdown",
      "metadata": {
        "id": "view-in-github",
        "colab_type": "text"
      },
      "source": [
        "<a href=\"https://colab.research.google.com/github/CREVIOS/cscongress/blob/master/Lecture_4_3_Fundamental_Concepts_of_Machine_Learning_%5BSOLUTION%5D.ipynb\" target=\"_parent\"><img src=\"https://colab.research.google.com/assets/colab-badge.svg\" alt=\"Open In Colab\"/></a>"
      ]
    },
    {
      "cell_type": "markdown",
      "metadata": {
        "id": "wlcQ5ZeYFklH",
        "colab_type": "text"
      },
      "source": [
        "# Codealong - Train, Val, and Test\n",
        "\n",
        "In this codealong you are going to be seperating your data into train, val, and test sets, as well as trying out different models at higher degrees"
      ]
    },
    {
      "cell_type": "markdown",
      "metadata": {
        "id": "WGbMMk9uhvEu",
        "colab_type": "text"
      },
      "source": [
        "First, we have some code that imports the necessary imports for this codealong"
      ]
    },
    {
      "cell_type": "code",
      "metadata": {
        "id": "BjXO1sHaGuZt",
        "colab_type": "code",
        "colab": {}
      },
      "source": [
        "import numpy as np\n",
        "import pandas as pd\n",
        "import sklearn \n",
        "import sklearn.datasets\n",
        "import sklearn.linear_model\n",
        "import sklearn.metrics"
      ],
      "execution_count": null,
      "outputs": []
    },
    {
      "cell_type": "markdown",
      "metadata": {
        "id": "51Z7FrOyh5g8",
        "colab_type": "text"
      },
      "source": [
        "Next, we load in the data that we're going to be using (same data as the data from 4.2's last codealong, but we only take the first 500 rows so that some aspects of our analysis work better)"
      ]
    },
    {
      "cell_type": "code",
      "metadata": {
        "id": "lxTGxaGuD7eg",
        "colab_type": "code",
        "colab": {}
      },
      "source": [
        "POLY_DATA_URL = \"https://raw.githubusercontent.com/alextsun/ssi-ds-bootcamp-2020/master/Poly_Data.txt\"\n",
        "\n",
        "data = pd.read_csv(POLY_DATA_URL, names=[\"X\", \"y\"], header=0, sep=\" \")\n",
        "data = data.to_numpy()\n",
        "data = data[:500, :]"
      ],
      "execution_count": null,
      "outputs": []
    },
    {
      "cell_type": "markdown",
      "metadata": {
        "id": "uJk2Hc_LHvxv",
        "colab_type": "text"
      },
      "source": [
        "## Seperating into train, val, and test sets\n",
        "\n",
        "Write some code to split our data into the train, val, and test sets from lecture. Write this as a function that we can pass any array and it will return a train, val, and test set. Make sure to shuffle the data first (outside of the function).\n",
        "\n",
        "*Hint: Use `np.split()` and `np.random.shuffle(arr)`*"
      ]
    },
    {
      "cell_type": "code",
      "metadata": {
        "id": "TR6bcovXHu6y",
        "colab_type": "code",
        "colab": {
          "base_uri": "https://localhost:8080/",
          "height": 51
        },
        "outputId": "ca6c1a72-dcc1-4aa1-982f-b60f0e95115c"
      },
      "source": [
        "np.random.seed(19)\n",
        "np.random.shuffle(data)\n",
        "\n",
        "X, y = data[:, 0], data[:, 1]\n",
        "print(X.shape)\n",
        "\n",
        "# make it a column vector. -1 chooses the right number of rows auto!\n",
        "X = X.reshape((-1, 1))\n",
        "print(X.shape)\n",
        "\n",
        "def train_val_test_split(dataset):\n",
        "  # Returns a tuple of 3 sub-datasets. \n",
        "  # The first 80% train, next 10% val, last 10% test.\n",
        "  return np.split(dataset, [int(dataset.shape[0] * 0.8), int(dataset.shape[0] * 0.9)])\n",
        "\n",
        "X_train, X_val, X_test = train_val_test_split(X)\n",
        "y_train, y_val, y_test = train_val_test_split(y)"
      ],
      "execution_count": null,
      "outputs": [
        {
          "output_type": "stream",
          "text": [
            "(500,)\n",
            "(500, 1)\n"
          ],
          "name": "stdout"
        }
      ]
    },
    {
      "cell_type": "markdown",
      "metadata": {
        "id": "lYn-7TQ0GSC5",
        "colab_type": "text"
      },
      "source": [
        "## Generating the linear model\n",
        "\n",
        "Create a linear regression model and fit it to our `X_train` and `y_train`. Print the weights and the bias from this model."
      ]
    },
    {
      "cell_type": "code",
      "metadata": {
        "id": "3UJ7DdFYGRjE",
        "colab_type": "code",
        "colab": {
          "base_uri": "https://localhost:8080/",
          "height": 51
        },
        "outputId": "2e033510-d425-45f5-8fdc-0c50e476c327"
      },
      "source": [
        "model = sklearn.linear_model.LinearRegression()\n",
        "model.fit(X_train, y_train)\n",
        "w = model.coef_\n",
        "b = model.intercept_\n",
        "print(w)\n",
        "print(b)"
      ],
      "execution_count": null,
      "outputs": [
        {
          "output_type": "stream",
          "text": [
            "[730.17253364]\n",
            "-4677.941116980869\n"
          ],
          "name": "stdout"
        }
      ]
    },
    {
      "cell_type": "markdown",
      "metadata": {
        "id": "uf5xlyXLLfos",
        "colab_type": "text"
      },
      "source": [
        "### Calculating MSE for the train and val set\n",
        "\n",
        "Calculate the model's MSE (mean squared error) based on its predictions to both the `X_train` set and the `X_val` set.\n",
        "\n",
        "*Hint: Use `sklearn.metrics.mean_squared_error()`*"
      ]
    },
    {
      "cell_type": "code",
      "metadata": {
        "id": "r1IcYlI5HfBQ",
        "colab_type": "code",
        "colab": {}
      },
      "source": [
        "yhat_train = model.predict(X_train)\n",
        "yhat_val = model.predict(X_val)"
      ],
      "execution_count": null,
      "outputs": []
    },
    {
      "cell_type": "code",
      "metadata": {
        "id": "Z3-4S89CHYfN",
        "colab_type": "code",
        "colab": {
          "base_uri": "https://localhost:8080/",
          "height": 51
        },
        "outputId": "08832b58-4909-46e1-ab7c-b6da85f23f4e"
      },
      "source": [
        "print(sklearn.metrics.mean_squared_error(yhat_train, y_train))\n",
        "print(sklearn.metrics.mean_squared_error(yhat_val, y_val))"
      ],
      "execution_count": null,
      "outputs": [
        {
          "output_type": "stream",
          "text": [
            "10120.096075647876\n",
            "10803.018770692204\n"
          ],
          "name": "stdout"
        }
      ]
    },
    {
      "cell_type": "markdown",
      "metadata": {
        "id": "lWSKTJF0I_sE",
        "colab_type": "text"
      },
      "source": [
        "## Generating the 3rd-degree model\n",
        "\n",
        "Create a new array `trans_X` that is a modified copy of the original `X` array. Modify it by adding columns for $X^3$ and $X^2$.\n",
        "\n",
        "*Hint: We already did this for the second Codealong in 4.2 :)*"
      ]
    },
    {
      "cell_type": "code",
      "metadata": {
        "id": "Kb6Y2idXKobu",
        "colab_type": "code",
        "colab": {}
      },
      "source": [
        "X2 = X ** 2\n",
        "X3 = X ** 3\n",
        "\n",
        "trans_X = np.hstack((X3, X2, X))"
      ],
      "execution_count": null,
      "outputs": []
    },
    {
      "cell_type": "markdown",
      "metadata": {
        "id": "KBBP0GJ6kcob",
        "colab_type": "text"
      },
      "source": [
        "Then, split that new dataset into Train, Val, and Test sets again (use the function we defined before!)"
      ]
    },
    {
      "cell_type": "code",
      "metadata": {
        "id": "r5dxGZ2WK_Rp",
        "colab_type": "code",
        "colab": {}
      },
      "source": [
        "X_train, X_val, X_test = train_val_test_split(trans_X)\n",
        "y_train, y_val, y_test = train_val_test_split(y)"
      ],
      "execution_count": null,
      "outputs": []
    },
    {
      "cell_type": "markdown",
      "metadata": {
        "id": "7Lb2r7QQkj_U",
        "colab_type": "text"
      },
      "source": [
        "Finally, fit our model on this new `X_train` and `y_train`, and once again print the weights and bias."
      ]
    },
    {
      "cell_type": "code",
      "metadata": {
        "id": "C5Tz2mMeLJmr",
        "colab_type": "code",
        "colab": {
          "base_uri": "https://localhost:8080/",
          "height": 51
        },
        "outputId": "c3a50251-73c1-4b65-ee91-9c30ad1a1ff3"
      },
      "source": [
        "model.fit(X_train, y_train)\n",
        "w = model.coef_\n",
        "b = model.intercept_\n",
        "print(w)\n",
        "print(b)"
      ],
      "execution_count": null,
      "outputs": [
        {
          "output_type": "stream",
          "text": [
            "[1.99790323 5.05363468 2.5668831 ]\n",
            "31.0868662125049\n"
          ],
          "name": "stdout"
        }
      ]
    },
    {
      "cell_type": "markdown",
      "metadata": {
        "id": "JJO60N5FMEee",
        "colab_type": "text"
      },
      "source": [
        "### Calculating MSE for the train and val set (again)\n",
        "\n",
        "Calculate the model's MSE (mean squared error) based on its predictions to both the `X_train` set and the `X_val` set.\n",
        "\n",
        "*Hint: Use `sklearn.metrics.mean_squared_error()`*"
      ]
    },
    {
      "cell_type": "code",
      "metadata": {
        "id": "RhNrhfVHLLUw",
        "colab_type": "code",
        "colab": {}
      },
      "source": [
        "yhat_train = model.predict(X_train)\n",
        "yhat_val = model.predict(X_val)"
      ],
      "execution_count": null,
      "outputs": []
    },
    {
      "cell_type": "code",
      "metadata": {
        "id": "UY_VWrKELNly",
        "colab_type": "code",
        "colab": {
          "base_uri": "https://localhost:8080/",
          "height": 51
        },
        "outputId": "0db91b74-f91e-4f65-a54e-d4c5c97aa0ba"
      },
      "source": [
        "print(sklearn.metrics.mean_squared_error(yhat_train, y_train))\n",
        "print(sklearn.metrics.mean_squared_error(yhat_val, y_val))"
      ],
      "execution_count": null,
      "outputs": [
        {
          "output_type": "stream",
          "text": [
            "0.056931370289016466\n",
            "0.06614913785813024\n"
          ],
          "name": "stdout"
        }
      ]
    },
    {
      "cell_type": "markdown",
      "metadata": {
        "id": "QzPAsYsdNVUB",
        "colab_type": "text"
      },
      "source": [
        "## Generating the 21st degree model\n",
        "\n",
        "Do the same (or similar) process as what you did for calculating the 3rd degree model, but do it for the 21st degree!"
      ]
    },
    {
      "cell_type": "code",
      "metadata": {
        "id": "Ed0AupeGh5bB",
        "colab_type": "code",
        "colab": {}
      },
      "source": [
        "DEGREE = 21"
      ],
      "execution_count": null,
      "outputs": []
    },
    {
      "cell_type": "markdown",
      "metadata": {
        "id": "XQS597uIlNxs",
        "colab_type": "text"
      },
      "source": [
        "First, transform the data! Use the above constant to make modifying the code easier down the line."
      ]
    },
    {
      "cell_type": "code",
      "metadata": {
        "id": "a5ZzPxFaNfDz",
        "colab_type": "code",
        "colab": {}
      },
      "source": [
        "n = X.shape[0]\n",
        "trans_X = np.repeat(X, DEGREE).reshape((n, DEGREE))\n",
        "\n",
        "for i in range(2, DEGREE+1):\n",
        "  trans_X[:, i-1] **= i"
      ],
      "execution_count": null,
      "outputs": []
    },
    {
      "cell_type": "markdown",
      "metadata": {
        "id": "j1uPkxgblWJJ",
        "colab_type": "text"
      },
      "source": [
        "Split it into Train, Val, and Test... (still use the function!)"
      ]
    },
    {
      "cell_type": "code",
      "metadata": {
        "id": "fSv4i_VJa53M",
        "colab_type": "code",
        "colab": {}
      },
      "source": [
        "X_train, X_val, X_test = train_val_test_split(trans_X)\n",
        "y_train, y_val, y_test = train_val_test_split(y)"
      ],
      "execution_count": null,
      "outputs": []
    },
    {
      "cell_type": "markdown",
      "metadata": {
        "id": "k2ncXfbElZLl",
        "colab_type": "text"
      },
      "source": [
        "...and train it again!"
      ]
    },
    {
      "cell_type": "code",
      "metadata": {
        "id": "JmNvjAEya9De",
        "colab_type": "code",
        "colab": {
          "base_uri": "https://localhost:8080/",
          "height": 137
        },
        "outputId": "6fb6caa6-03e5-4152-9896-7e26d9194a8f"
      },
      "source": [
        "model.fit(X_train, y_train)\n",
        "w = model.coef_\n",
        "b = model.intercept_\n",
        "print(w)\n",
        "print(b)"
      ],
      "execution_count": null,
      "outputs": [
        {
          "output_type": "stream",
          "text": [
            "[ 9.62538339e-17 -1.02856239e-09  4.73315057e-12  2.43260193e-14\n",
            "  6.03737525e-13  3.97442851e-12  2.42343764e-11  1.36332790e-10\n",
            "  6.99442269e-10  3.20618591e-09  1.26859900e-08  4.07426134e-08\n",
            "  9.34264488e-08  1.02396855e-07 -7.93610055e-08  2.16248103e-08\n",
            " -3.14962093e-09  2.71736208e-10 -1.39936668e-11  3.99417460e-13\n",
            " -4.88029120e-15]\n",
            "567.3410349531378\n"
          ],
          "name": "stdout"
        }
      ]
    },
    {
      "cell_type": "markdown",
      "metadata": {
        "id": "-U8kf4lBbFdq",
        "colab_type": "text"
      },
      "source": [
        "### Calculating MSE for the train and val set (for the last time)\n",
        "\n",
        "Calculate the model's MSE (mean squared error) based on its predictions to both the `X_train` set and the `X_val` set.\n",
        "\n",
        "*Hint: Use `sklearn.metrics.mean_squared_error()`*"
      ]
    },
    {
      "cell_type": "code",
      "metadata": {
        "id": "Rb3zozyobHTl",
        "colab_type": "code",
        "colab": {}
      },
      "source": [
        "yhat_train = model.predict(X_train)\n",
        "yhat_val = model.predict(X_val)"
      ],
      "execution_count": null,
      "outputs": []
    },
    {
      "cell_type": "code",
      "metadata": {
        "id": "myIvdlFibJyQ",
        "colab_type": "code",
        "colab": {
          "base_uri": "https://localhost:8080/",
          "height": 51
        },
        "outputId": "cb673374-4e04-4efb-dced-a60373344218"
      },
      "source": [
        "print(sklearn.metrics.mean_squared_error(yhat_train, y_train))\n",
        "print(sklearn.metrics.mean_squared_error(yhat_val, y_val))"
      ],
      "execution_count": null,
      "outputs": [
        {
          "output_type": "stream",
          "text": [
            "1.2423548220377996\n",
            "2.9523730255719975\n"
          ],
          "name": "stdout"
        }
      ]
    },
    {
      "cell_type": "code",
      "metadata": {
        "id": "D7qZ91PBWGbB",
        "colab_type": "code",
        "colab": {
          "base_uri": "https://localhost:8080/",
          "height": 137
        },
        "outputId": "4a014e18-2094-46b8-995f-5251f2d73e34"
      },
      "source": [
        "ridge = sklearn.linear_model.Lasso(alpha=1000000000)\n",
        "model.fit(X_train, y_train)\n",
        "w = model.coef_\n",
        "b = model.intercept_\n",
        "print(w)\n",
        "print(b)"
      ],
      "execution_count": null,
      "outputs": [
        {
          "output_type": "stream",
          "text": [
            "[ 9.62538339e-17 -1.02856239e-09  4.73315057e-12  2.43260193e-14\n",
            "  6.03737525e-13  3.97442851e-12  2.42343764e-11  1.36332790e-10\n",
            "  6.99442269e-10  3.20618591e-09  1.26859900e-08  4.07426134e-08\n",
            "  9.34264488e-08  1.02396855e-07 -7.93610055e-08  2.16248103e-08\n",
            " -3.14962093e-09  2.71736208e-10 -1.39936668e-11  3.99417460e-13\n",
            " -4.88029120e-15]\n",
            "567.3410349531378\n"
          ],
          "name": "stdout"
        }
      ]
    }
  ]
}