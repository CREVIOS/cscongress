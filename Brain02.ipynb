{
  "nbformat": 4,
  "nbformat_minor": 0,
  "metadata": {
    "colab": {
      "name": "Brain02.ipynb",
      "provenance": [],
      "authorship_tag": "ABX9TyOMkTGBDYEazQrKaYOQoiIF",
      "include_colab_link": true
    },
    "kernelspec": {
      "name": "python3",
      "display_name": "Python 3"
    }
  },
  "cells": [
    {
      "cell_type": "markdown",
      "metadata": {
        "id": "view-in-github",
        "colab_type": "text"
      },
      "source": [
        "<a href=\"https://colab.research.google.com/github/CREVIOS/cscongress/blob/master/Brain02.ipynb\" target=\"_parent\"><img src=\"https://colab.research.google.com/assets/colab-badge.svg\" alt=\"Open In Colab\"/></a>"
      ]
    },
    {
      "cell_type": "markdown",
      "metadata": {
        "id": "KI3GcnuYVTyu",
        "colab_type": "text"
      },
      "source": [
        "Md.Sadek Hossain Asif\n",
        "\n",
        "Cs Congress Id: 3611173\n",
        "\n"
      ]
    },
    {
      "cell_type": "code",
      "metadata": {
        "id": "hT-uFqidvE6O",
        "colab_type": "code",
        "colab": {
          "base_uri": "https://localhost:8080/",
          "height": 275
        },
        "outputId": "916582e1-8573-49f8-ca4a-52a4a2bbc3e1"
      },
      "source": [
        "!pip install -U scikit-fuzzy\n",
        "import numpy as np\n",
        "import cv2\n",
        "import skfuzzy as fuzz\n",
        "import matplotlib.pyplot as plt\n",
        "from time import time\n",
        "import glob"
      ],
      "execution_count": null,
      "outputs": [
        {
          "output_type": "stream",
          "text": [
            "Collecting scikit-fuzzy\n",
            "\u001b[?25l  Downloading https://files.pythonhosted.org/packages/6c/f0/5eb5dbe0fd8dfe7d4651a8f4e591a196623a22b9e5339101e559695b4f6c/scikit-fuzzy-0.4.2.tar.gz (993kB)\n",
            "\u001b[K     |████████████████████████████████| 1.0MB 4.9MB/s \n",
            "\u001b[?25hRequirement already satisfied, skipping upgrade: numpy>=1.6.0 in /usr/local/lib/python3.6/dist-packages (from scikit-fuzzy) (1.17.5)\n",
            "Requirement already satisfied, skipping upgrade: scipy>=0.9.0 in /usr/local/lib/python3.6/dist-packages (from scikit-fuzzy) (1.4.1)\n",
            "Requirement already satisfied, skipping upgrade: networkx>=1.9.0 in /usr/local/lib/python3.6/dist-packages (from scikit-fuzzy) (2.4)\n",
            "Requirement already satisfied, skipping upgrade: decorator>=4.3.0 in /usr/local/lib/python3.6/dist-packages (from networkx>=1.9.0->scikit-fuzzy) (4.4.1)\n",
            "Building wheels for collected packages: scikit-fuzzy\n",
            "  Building wheel for scikit-fuzzy (setup.py) ... \u001b[?25l\u001b[?25hdone\n",
            "  Created wheel for scikit-fuzzy: filename=scikit_fuzzy-0.4.2-cp36-none-any.whl size=894070 sha256=105d07e67d6a9f1451f04dd7d8e53e9d1ec1387d2a25199e4aa528389f491538\n",
            "  Stored in directory: /root/.cache/pip/wheels/b9/4e/77/da79b16f64ef1738d95486e2731eea09d73e90a72465096600\n",
            "Successfully built scikit-fuzzy\n",
            "Installing collected packages: scikit-fuzzy\n",
            "Successfully installed scikit-fuzzy-0.4.2\n"
          ],
          "name": "stdout"
        }
      ]
    },
    {
      "cell_type": "code",
      "metadata": {
        "id": "cawH1cngvQf6",
        "colab_type": "code",
        "colab": {
          "base_uri": "https://localhost:8080/",
          "height": 299
        },
        "outputId": "0b8e3a38-c8d4-4ce7-b989-158341c7b47d"
      },
      "source": [
        "image = 'img013.jpg'\n",
        "img = cv2.imread(image)\n",
        "img = cv2.medianBlur(img, 3)\n",
        "m,n,l=img.shape\n",
        "Z=img.reshape((-1,3))\n",
        "Z = np.float32(Z)\n",
        "cntr, u, u0, d, jm, p, fpc = fuzz.cluster.cmeans( Z.T, 4, 2, error=0.005, maxiter=1000, init=None)\n",
        "print('Fuzzy time for cluster')\n",
        "\n",
        "vpc=(sum(sum(x**2 for x in u)))/(m*n);\n",
        "vpe=-((sum(sum(x*np.log2(x) for x in u)))/(m*n));\n",
        "print('partition coefficient Vpc = \\n', vpc);\n",
        "print('partition entropy Vpe= \\n',vpe);\n",
        "maxu = np.max(u, axis=0)\n",
        "crispu=np.zeros(u.shape)\n",
        "for i in range(4):\n",
        "  for j in range(len(Z)):\n",
        "    if(u[i,j]==maxu[j]):\n",
        "      crispu[i,j]=1\n",
        "img1=crispu[0,:].reshape(m,n)\n",
        "img2=crispu[1,:].reshape(m,n)\n",
        "img3=crispu[2,:].reshape(m,n)\n",
        "img4=crispu[3,:].reshape(m,n)\n",
        "fig = plt.figure()   \n",
        "plt.figure(figsize=(12,12))\n",
        "\n",
        "plt.subplot(1, 4, 1)\n",
        "plt.imshow(img1)\n",
        "\n",
        "plt.subplot(1, 4, 2)\n",
        "plt.imshow(img2)\n",
        "\n",
        "plt.subplot(1, 4, 3)\n",
        "plt.imshow(img3)\n",
        "\n",
        "plt.subplot(1, 4, 4)\n",
        "plt.imshow(img4)\n",
        "plt.show()\n",
        "  "
      ],
      "execution_count": null,
      "outputs": [
        {
          "output_type": "stream",
          "text": [
            "Fuzzy time for cluster\n",
            "partition coefficient Vpc = \n",
            " 0.9178308782321749\n",
            "partition entropy Vpe= \n",
            " 0.2314111719443277\n"
          ],
          "name": "stdout"
        },
        {
          "output_type": "display_data",
          "data": {
            "text/plain": [
              "<Figure size 432x288 with 0 Axes>"
            ]
          },
          "metadata": {
            "tags": []
          }
        },
        {
          "output_type": "display_data",
          "data": {
            "image/png": "[encoded data removed]",
            "text/plain": [
              "<Figure size 864x864 with 4 Axes>"
            ]
          },
          "metadata": {
            "tags": []
          }
        }
      ]
    },
    {
      "cell_type": "code",
      "metadata": {
        "id": "NHJiV6n7vSmZ",
        "colab_type": "code",
        "colab": {}
      },
      "source": [
        ""
      ],
      "execution_count": null,
      "outputs": []
    }
  ]
}